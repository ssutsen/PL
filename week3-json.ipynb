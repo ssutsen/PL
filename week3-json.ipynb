{
 "cells": [
  {
   "cell_type": "code",
   "execution_count": 5,
   "metadata": {},
   "outputs": [
    {
     "name": "stdout",
     "output_type": "stream",
     "text": [
      "<class 'str'>\n"
     ]
    }
   ],
   "source": [
    "import requests,json\n",
    "url = requests.get(\"https://tcgbusfs.blob.core.windows.net/dotapp/youbike/v2/youbike_immediate.json\")\n",
    "text = url.text\n",
    "print(type(text))"
   ]
  },
  {
   "cell_type": "code",
   "execution_count": 30,
   "metadata": {},
   "outputs": [
    {
     "ename": "AttributeError",
     "evalue": "'builtin_function_or_method' object has no attribute 'head'",
     "output_type": "error",
     "traceback": [
      "\u001b[1;31m---------------------------------------------------------------------------\u001b[0m",
      "\u001b[1;31mAttributeError\u001b[0m                            Traceback (most recent call last)",
      "Cell \u001b[1;32mIn [30], line 11\u001b[0m\n\u001b[0;32m      8\u001b[0m user \u001b[39m=\u001b[39m data[\u001b[39m0\u001b[39m]\n\u001b[0;32m     10\u001b[0m \u001b[39mfor\u001b[39;00m i \u001b[39min\u001b[39;00m data:\n\u001b[1;32m---> 11\u001b[0m       \u001b[39mprint\u001b[39m\u001b[39m.\u001b[39mhead((i[\u001b[39m'\u001b[39m\u001b[39msna\u001b[39m\u001b[39m'\u001b[39m],\u001b[39m'\u001b[39m\u001b[39m\\t\u001b[39;00m\u001b[39m'\u001b[39m,i[\u001b[39m'\u001b[39m\u001b[39mtot\u001b[39m\u001b[39m'\u001b[39m],\u001b[39m'\u001b[39m\u001b[39m\\t\u001b[39;00m\u001b[39m'\u001b[39m,i[\u001b[39m'\u001b[39m\u001b[39msbi\u001b[39m\u001b[39m'\u001b[39m],\u001b[39m'\u001b[39m\u001b[39m\\t\u001b[39;00m\u001b[39m'\u001b[39m,i[\u001b[39m'\u001b[39m\u001b[39mbemp\u001b[39m\u001b[39m'\u001b[39m]))\n",
      "\u001b[1;31mAttributeError\u001b[0m: 'builtin_function_or_method' object has no attribute 'head'"
     ]
    }
   ],
   "source": [
    "import json, requests \n",
    "\n",
    "url = requests.get(\"https://tcgbusfs.blob.core.windows.net/dotapp/youbike/v2/youbike_immediate.json\")\n",
    "text = url.text\n",
    "\n",
    "data = json.loads(text)\n",
    "\n",
    "user = data[0]\n",
    "\n",
    "for i in data:\n",
    "      print(i['sna'],'\\t',i['tot'],'\\t',i['sbi'],'\\t',i['bemp'])\n"
   ]
  },
  {
   "cell_type": "code",
   "execution_count": 15,
   "metadata": {},
   "outputs": [
    {
     "name": "stdout",
     "output_type": "stream",
     "text": [
      "全部車輛數量= 9236 全部空位數量= 16823\n"
     ]
    }
   ],
   "source": [
    "bike=0   #場站目前車輛數量 變數\n",
    "empty=0  #空位數量 變數\n",
    "\n",
    "for i in data:\n",
    "         bike += int(i['sbi'])\n",
    "         empty += int(i['bemp'])\n",
    "\n",
    "print(\"全部車輛數量=\", bike, '全部空位數量=', empty)"
   ]
  },
  {
   "cell_type": "code",
   "execution_count": 25,
   "metadata": {},
   "outputs": [
    {
     "name": "stdout",
     "output_type": "stream",
     "text": [
      "YouBike2.0_劍潭抽水站 \t 17\n",
      "YouBike2.0_通河東街大南路口 \t 15\n",
      "YouBike2.0_福港街停車場 \t 22\n",
      "YouBike2.0_百齡國小 \t 37\n",
      "YouBike2.0_雨聲街165巷口 \t 15\n",
      "YouBike2.0_天和公園 \t 13\n",
      "YouBike2.0_中山天母路口 \t 29\n",
      "YouBike2.0_天母運動公園 \t 27\n",
      "YouBike2.0_臺北市立大學(天母校區) \t 20\n",
      "YouBike2.0_忠誠路二段53巷 \t 18\n",
      "YouBike2.0_天母棒球場 \t 26\n",
      "YouBike2.0_天母北天玉街口 \t 15\n",
      "YouBike2.0_蘭興公園 \t 44\n",
      "YouBike2.0_明勝公園 \t 14\n",
      "YouBike2.0_劍潭海外青年活動中心 \t 23\n",
      "YouBike2.0_忠誠路一段173巷口 \t 11\n",
      "YouBike2.0_雨農國小 \t 32\n",
      "YouBike2.0_忠誠公園 \t 14\n",
      "YouBike2.0_芝山抽水站 \t 21\n",
      "YouBike2.0_至誠路一段305巷口 \t 21\n",
      "YouBike2.0_華齡公園 \t 25\n",
      "YouBike2.0_前港公園(福德宮) \t 18\n",
      "YouBike2.0_華齡街185巷口 \t 12\n",
      "YouBike2.0_前港公園(前港街) \t 19\n",
      "YouBike2.0_百齡高中 \t 15\n",
      "YouBike2.0_捷運芝山站(2號出口) \t 21\n",
      "YouBike2.0_臺灣戲曲中心 \t 14\n",
      "YouBike2.0_捷運劍潭站(2號出口) \t 63\n",
      "YouBike2.0_劍潭基河路口 \t 20\n",
      "YouBike2.0_志成公園 \t 23\n",
      "YouBike2.0_福林國小 \t 14\n",
      "YouBike2.0_中山中正路口 \t 19\n",
      "YouBike2.0_士林運動中心 \t 27\n",
      "YouBike2.0_陽明高中 \t 36\n",
      "YouBike2.0_兒童新樂園 \t 23\n",
      "YouBike2.0_臺北市立天文館 \t 31\n",
      "YouBike2.0_華聲公園 \t 27\n",
      "YouBike2.0_福林公園 \t 17\n",
      "YouBike2.0_捷運士林站(2號出口) \t 30\n",
      "YouBike2.0_銘傳大學 \t 30\n",
      "YouBike2.0_士林高商 \t 26\n",
      "YouBike2.0_蘭雅公園 \t 29\n",
      "YouBike2.0_聯合醫院陽明院區 \t 15\n",
      "YouBike2.0_捷運芝山站(1號出口) \t 36\n",
      "YouBike2.0_至誠公園 \t 15\n",
      "YouBike2.0_原住民文化主題公園 \t 21\n",
      "YouBike2.0_通河東街2段10巷口 \t 15\n",
      "YouBike2.0_梅林新村 \t 15\n",
      "YouBike2.0_延平北中正路口 \t 30\n",
      "YouBike2.0_重慶北路四段190巷口 \t 13\n",
      "YouBike2.0_重慶北葫東街口 \t 15\n",
      "YouBike2.0_葫蘆國小 \t 20\n",
      "YouBike2.0_士林3號廣場 \t 30\n",
      "YouBike2.0_社正公園 \t 15\n",
      "YouBike2.0_社子國小 \t 15\n",
      "YouBike2.0_社中街384巷口 \t 18\n",
      "YouBike2.0_忠誠路一段138號 \t 15\n",
      "YouBike2.0_社子公園 \t 14\n",
      "YouBike2.0_國立故宮博物院 \t 17\n",
      "YouBike2.0_泰北高中 \t 12\n",
      "YouBike2.0_後港公園 \t 15\n",
      "YouBike2.0_重慶北路四段117號 \t 18\n",
      "YouBike2.0_社子島島頭公園 \t 15\n",
      "YouBike2.0_延平北路八段133巷口 \t 15\n",
      "YouBike2.0_坤天亭 \t 14\n",
      "YouBike2.0_社子島濕地解說小築 \t 15\n",
      "YouBike2.0_福安國中 \t 11\n",
      "YouBike2.0_福安消防分隊 \t 15\n",
      "YouBike2.0_聖山綠地 \t 15\n",
      "YouBike2.0_芝山國小 \t 30\n",
      "YouBike2.0_士林新天地 \t 19\n",
      "YouBike2.0_蘭雅國小 \t 27\n",
      "YouBike2.0_中正基河路口 \t 28\n",
      "YouBike2.0_福林公園(中正路) \t 27\n",
      "YouBike2.0_至善臨溪路口 \t 22\n",
      "YouBike2.0_市立圖書館葫蘆堵分館 \t 13\n",
      "YouBike2.0_東山路110巷口 \t 16\n",
      "YouBike2.0_永平社會住宅 \t 15\n",
      "YouBike2.0_雨農橋 \t 16\n",
      "YouBike2.0_通河街76巷/承德路四段10巷口 \t 14\n",
      "YouBike2.0_芝山聖佑宮 \t 15\n",
      "YouBike2.0_至誠雨聲街口 \t 10\n",
      "YouBike2.0_捷運線型公園(後街) \t 13\n",
      "YouBike2.0_天母公園 \t 12\n",
      "YouBike2.0_基河文林路口 \t 16\n",
      "YouBike2.0_文林福華路口 \t 19\n",
      "YouBike2.0_劍潭海外青年活動中心_1 \t 24\n",
      "YouBike2.0_社子國小_1 \t 20\n",
      "YouBike2.0_捷運劍潭站(1號出口) \t 70\n",
      "YouBike2.0_德行東山路口 \t 12\n",
      "YouBike2.0_重慶北通河西街口 \t 12\n",
      "YouBike2.0_葫蘆國小(延平北路五段285巷) \t 15\n",
      "YouBike2.0_社子市場 \t 15\n",
      "YouBike2.0_士林區農會社子分部 \t 15\n",
      "YouBike2.0_承德劍潭路口 \t 20\n",
      "YouBike2.0_文林路101巷口 \t 12\n",
      "YouBike2.0_延平北路五段257巷15弄口 \t 13\n",
      "YouBike2.0_延平北路五段257巷4弄口 \t 15\n",
      "YouBike2.0_啟明學校 \t 16\n",
      "YouBike2.0_中山福國路口 \t 14\n",
      "YouBike2.0_德行公園 \t 14\n",
      "YouBike2.0_承德後港街口 \t 11\n",
      "YouBike2.0_中山北路五段698巷口 \t 15\n",
      "YouBike2.0_捷運士林站(1號出口) \t 38\n",
      "YouBike2.0_捷運芝山站(2號出口)_1 \t 52\n",
      "YouBike2.0_銘傳大學(中山北路五段280巷口) \t 23\n",
      "YouBike2.0_海光公園南側 \t 12\n",
      "YouBike2.0_士商路40巷口 \t 15\n",
      "YouBike2.0_劍潭郵局 \t 16\n"
     ]
    },
    {
     "data": {
      "text/plain": [
       "18"
      ]
     },
     "execution_count": 25,
     "metadata": {},
     "output_type": "execute_result"
    }
   ],
   "source": [
    "#印出所輸入的地區擁有的站數(士林區)\n",
    "name=input(\"請輸入地區:\")\n",
    "for i in data:\n",
    "    if i['sarea']==name:\n",
    "        print(i['sna'],'\\t',i['tot'])\n",
    "len(i)\n"
   ]
  }
 ],
 "metadata": {
  "kernelspec": {
   "display_name": "Python 3.10.1 64-bit",
   "language": "python",
   "name": "python3"
  },
  "language_info": {
   "codemirror_mode": {
    "name": "ipython",
    "version": 3
   },
   "file_extension": ".py",
   "mimetype": "text/x-python",
   "name": "python",
   "nbconvert_exporter": "python",
   "pygments_lexer": "ipython3",
   "version": "3.10.1"
  },
  "orig_nbformat": 4,
  "vscode": {
   "interpreter": {
    "hash": "f528ce8acbf1180514c0105ce4262e845ce5f1c71d335879210aff712d8b8e4b"
   }
  }
 },
 "nbformat": 4,
 "nbformat_minor": 2
}
