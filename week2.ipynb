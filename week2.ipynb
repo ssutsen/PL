{
 "cells": [
  {
   "cell_type": "code",
   "execution_count": null,
   "id": "20b66805",
   "metadata": {},
   "outputs": [
    {
     "name": "stdout",
     "output_type": "stream",
     "text": [
      "被告須付 17981\n",
      "原告須付 7706\n"
     ]
    }
   ],
   "source": [
    "#1\n",
    "money=25688\n",
    "a=money*0.7\n",
    "b=money*0.3\n",
    "print (\"被告須付\",int(a))\n",
    "print (\"原告須付\",int(b))"
   ]
  },
  {
   "cell_type": "code",
   "execution_count": 4,
   "id": "09d59b9a",
   "metadata": {},
   "outputs": [
    {
     "name": "stdout",
     "output_type": "stream",
     "text": [
      "12608\n"
     ]
    }
   ],
   "source": [
    "#2\n",
    "#罰金11805 日利息0.0005 違約金每個月加150 兩個月還完\n",
    "money2=11805\n",
    "rate=0.0005\n",
    "day=59\n",
    "sum=money2*(1+rate)**59+150+300\n",
    "print(int(sum))"
   ]
  },
  {
   "cell_type": "code",
   "execution_count": 5,
   "id": "dd4244f1",
   "metadata": {},
   "outputs": [
    {
     "name": "stdout",
     "output_type": "stream",
     "text": [
      "被告陪100%\n"
     ]
    }
   ],
   "source": [
    "#3\n",
    "event=input(\"請輸入案件\")\n",
    "if event==\"被告闖紅燈\":\n",
    "    print(\"被告賠100%\")\n",
    "elif event==\"原告闖紅燈\":\n",
    "    print(\"原告多被告少\")\n",
    "elif event==\"被告原告皆闖紅燈\":\n",
    "    print(\"原告50%被告50%\")\n",
    "else:\n",
    "    print(\"請輸入有效訊息\")\n"
   ]
  },
  {
   "cell_type": "code",
   "execution_count": null,
   "id": "7767dc1d",
   "metadata": {},
   "outputs": [],
   "source": []
  }
 ],
 "metadata": {
  "kernelspec": {
   "display_name": "Python 3.9.12 ('base')",
   "language": "python",
   "name": "python3"
  },
  "language_info": {
   "codemirror_mode": {
    "name": "ipython",
    "version": 3
   },
   "file_extension": ".py",
   "mimetype": "text/x-python",
   "name": "python",
   "nbconvert_exporter": "python",
   "pygments_lexer": "ipython3",
   "version": "3.9.12"
  },
  "vscode": {
   "interpreter": {
    "hash": "ad2bdc8ecc057115af97d19610ffacc2b4e99fae6737bb82f5d7fb13d2f2c186"
   }
  }
 },
 "nbformat": 4,
 "nbformat_minor": 5
}
