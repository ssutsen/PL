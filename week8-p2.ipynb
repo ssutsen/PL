{
 "cells": [
  {
   "cell_type": "code",
   "execution_count": 1,
   "metadata": {},
   "outputs": [
    {
     "name": "stdout",
     "output_type": "stream",
     "text": [
      "Collecting jieba\n",
      "  Downloading jieba-0.42.1.tar.gz (19.2 MB)\n",
      "Using legacy 'setup.py install' for jieba, since package 'wheel' is not installed.\n",
      "Installing collected packages: jieba\n",
      "    Running setup.py install for jieba: started\n",
      "    Running setup.py install for jieba: finished with status 'done'\n",
      "Successfully installed jieba-0.42.1\n",
      "Note: you may need to restart the kernel to use updated packages.\n"
     ]
    },
    {
     "name": "stderr",
     "output_type": "stream",
     "text": [
      "WARNING: You are using pip version 21.2.4; however, version 22.3.1 is available.\n",
      "You should consider upgrading via the 'c:\\Users\\babe9\\AppData\\Local\\Programs\\Python\\Python310\\python.exe -m pip install --upgrade pip' command.\n"
     ]
    }
   ],
   "source": [
    "pip install jieba"
   ]
  },
  {
   "cell_type": "code",
   "execution_count": 64,
   "metadata": {},
   "outputs": [],
   "source": [
    "import requests\n",
    "from bs4 import BeautifulSoup\n",
    "import pandas as pd\n",
    "\n",
    "\n",
    "url = \"https://www.ptt.cc/bbs/C_Chat/index.html\"\n",
    "\n",
    "for i in range(50): \n",
    " \n",
    "    r = requests.get(url)\n",
    "    soup = BeautifulSoup(r.text,\"html.parser\")\n",
    "    rents = soup.find_all(\"div\",\"r-ent\")\n",
    "    u = soup.select(\"div.btn-group.btn-group-paging a\")\n",
    "    url = \"https://www.ptt.cc\"+ u[1][\"href\"]  #上一頁的網址\n",
    "\n",
    "    titles = [r.find('div',\"title\").text.strip() for r in rents]\n",
    "    dates = [d.find('div',\"meta\").find(\"div\",\"date\").text.strip() for d in rents]\n",
    "\n",
    "    #存成dataframe\n",
    "    df = pd.DataFrame()  #暫存當頁資料\n",
    "\n",
    "    df=pd.DataFrame(\n",
    "    {\n",
    "        '標題': titles,\n",
    "        \"日期\": dates,\n",
    "    })\n",
    "    "
   ]
  },
  {
   "cell_type": "code",
   "execution_count": 65,
   "metadata": {},
   "outputs": [
    {
     "data": {
      "text/html": [
       "<div>\n",
       "<style scoped>\n",
       "    .dataframe tbody tr th:only-of-type {\n",
       "        vertical-align: middle;\n",
       "    }\n",
       "\n",
       "    .dataframe tbody tr th {\n",
       "        vertical-align: top;\n",
       "    }\n",
       "\n",
       "    .dataframe thead th {\n",
       "        text-align: right;\n",
       "    }\n",
       "</style>\n",
       "<table border=\"1\" class=\"dataframe\">\n",
       "  <thead>\n",
       "    <tr style=\"text-align: right;\">\n",
       "      <th></th>\n",
       "      <th>標題</th>\n",
       "      <th>日期</th>\n",
       "    </tr>\n",
       "  </thead>\n",
       "  <tbody>\n",
       "    <tr>\n",
       "      <th>0</th>\n",
       "      <td>Fw: [討論] PUMA X Pokemon 聯名開箱</td>\n",
       "      <td>11/15</td>\n",
       "    </tr>\n",
       "    <tr>\n",
       "      <th>1</th>\n",
       "      <td>[公連] 霸瞳的現實模樣(爆雷</td>\n",
       "      <td>11/15</td>\n",
       "    </tr>\n",
       "    <tr>\n",
       "      <th>2</th>\n",
       "      <td>[死神] 日番谷怎麼不選亂菊？</td>\n",
       "      <td>11/15</td>\n",
       "    </tr>\n",
       "    <tr>\n",
       "      <th>3</th>\n",
       "      <td>[Vtub] 拉普大人：啊啊啊啊啊</td>\n",
       "      <td>11/15</td>\n",
       "    </tr>\n",
       "    <tr>\n",
       "      <th>4</th>\n",
       "      <td>Re: [公連] 霸瞳的現實模樣(爆雷</td>\n",
       "      <td>11/15</td>\n",
       "    </tr>\n",
       "  </tbody>\n",
       "</table>\n",
       "</div>"
      ],
      "text/plain": [
       "                             標題     日期\n",
       "0  Fw: [討論] PUMA X Pokemon 聯名開箱  11/15\n",
       "1               [公連] 霸瞳的現實模樣(爆雷  11/15\n",
       "2               [死神] 日番谷怎麼不選亂菊？  11/15\n",
       "3             [Vtub] 拉普大人：啊啊啊啊啊  11/15\n",
       "4           Re: [公連] 霸瞳的現實模樣(爆雷  11/15"
      ]
     },
     "execution_count": 65,
     "metadata": {},
     "output_type": "execute_result"
    }
   ],
   "source": [
    "df.head(5)"
   ]
  },
  {
   "cell_type": "code",
   "execution_count": 66,
   "metadata": {},
   "outputs": [],
   "source": [
    "import jieba\n",
    "import jieba.analyse\n",
    "import pandas as pd\n",
    "import numpy as np\n",
    "from collections import Counter"
   ]
  },
  {
   "cell_type": "code",
   "execution_count": 67,
   "metadata": {},
   "outputs": [
    {
     "data": {
      "text/html": [
       "<div>\n",
       "<style scoped>\n",
       "    .dataframe tbody tr th:only-of-type {\n",
       "        vertical-align: middle;\n",
       "    }\n",
       "\n",
       "    .dataframe tbody tr th {\n",
       "        vertical-align: top;\n",
       "    }\n",
       "\n",
       "    .dataframe thead th {\n",
       "        text-align: right;\n",
       "    }\n",
       "</style>\n",
       "<table border=\"1\" class=\"dataframe\">\n",
       "  <thead>\n",
       "    <tr style=\"text-align: right;\">\n",
       "      <th></th>\n",
       "      <th>標題</th>\n",
       "      <th>日期</th>\n",
       "      <th>seg</th>\n",
       "    </tr>\n",
       "  </thead>\n",
       "  <tbody>\n",
       "    <tr>\n",
       "      <th>0</th>\n",
       "      <td>Fw: [討論] PUMA X Pokemon 聯名開箱</td>\n",
       "      <td>11/15</td>\n",
       "      <td></td>\n",
       "    </tr>\n",
       "    <tr>\n",
       "      <th>1</th>\n",
       "      <td>[公連] 霸瞳的現實模樣(爆雷</td>\n",
       "      <td>11/15</td>\n",
       "      <td></td>\n",
       "    </tr>\n",
       "    <tr>\n",
       "      <th>2</th>\n",
       "      <td>[死神] 日番谷怎麼不選亂菊？</td>\n",
       "      <td>11/15</td>\n",
       "      <td></td>\n",
       "    </tr>\n",
       "    <tr>\n",
       "      <th>3</th>\n",
       "      <td>[Vtub] 拉普大人：啊啊啊啊啊</td>\n",
       "      <td>11/15</td>\n",
       "      <td></td>\n",
       "    </tr>\n",
       "    <tr>\n",
       "      <th>4</th>\n",
       "      <td>Re: [公連] 霸瞳的現實模樣(爆雷</td>\n",
       "      <td>11/15</td>\n",
       "      <td></td>\n",
       "    </tr>\n",
       "  </tbody>\n",
       "</table>\n",
       "</div>"
      ],
      "text/plain": [
       "                             標題     日期 seg\n",
       "0  Fw: [討論] PUMA X Pokemon 聯名開箱  11/15    \n",
       "1               [公連] 霸瞳的現實模樣(爆雷  11/15    \n",
       "2               [死神] 日番谷怎麼不選亂菊？  11/15    \n",
       "3             [Vtub] 拉普大人：啊啊啊啊啊  11/15    \n",
       "4           Re: [公連] 霸瞳的現實模樣(爆雷  11/15    "
      ]
     },
     "execution_count": 67,
     "metadata": {},
     "output_type": "execute_result"
    }
   ],
   "source": [
    "df['seg'] = \" \"\n",
    "df.head()"
   ]
  },
  {
   "cell_type": "code",
   "execution_count": 68,
   "metadata": {},
   "outputs": [],
   "source": [
    "jieba.analyse.set_stop_words('stopwords.txt')\n",
    "\n",
    "index = 0\n",
    "for documents in df[\"標題\"]:\n",
    "    seg_list = jieba.analyse.extract_tags(documents, 150)\n",
    "    seg_list = jieba.lcut(documents)\n",
    "    df['seg'].iloc[index] = seg_list\n",
    "    index += 1"
   ]
  },
  {
   "cell_type": "code",
   "execution_count": 69,
   "metadata": {},
   "outputs": [
    {
     "data": {
      "text/plain": [
       "0     [Fw, :,  , [, 討論, ],  , PUMA,  , X,  , Pokemon...\n",
       "1                   [[, 公連, ],  , 霸瞳, 的, 現實, 模樣, (, 爆雷]\n",
       "2                   [[, 死神, ],  , 日番, 谷, 怎麼, 不選亂, 菊, ？]\n",
       "3                 [[, Vtub, ],  , 拉普, 大人, ：, 啊啊啊, 啊, 啊]\n",
       "4         [Re, :,  , [, 公連, ],  , 霸瞳, 的, 現實, 模樣, (, 爆雷]\n",
       "5         [[, 閒聊, ],  , 火箭, 隊才, 是, 小智, 真正, 的, 夥伴, 吧, ？]\n",
       "6     [Re, :,  , [, 死神, ],  , 優哈, 巴哈, 對山, 老頭, 不錯, 吧, ？]\n",
       "7                 [[, 色色, ],  , 本季, 不德, 屌, 打, 彼得, 吧, ？]\n",
       "8     [Re, :,  , [, 情報, ],  , 宮本侑芽, ，, 因身體, 不, 適將, 暫...\n",
       "9       [[, 亂馬, ],  , 良牙, X, 女亂, 馬, 的, 本子, 為, 啥, 這麼, 多]\n",
       "10        [[, 閒聊, ],  , 大木, 博士, 其實, 對, 家庭, 很, 盡責, 吧, ？]\n",
       "11      [[, 閒聊, ],  , 我, 的, 妻子, 沒有, 感情, /, 第, 24, 話, /]\n",
       "12                               [[, 閒聊, ],  , 美少女, 繪師]\n",
       "13    [[, 死神, ],  , 隊長, 升, 等, 考試, 要, 請, 其他, 隊長, 吃, 宴...\n",
       "14    [[, 閒聊, ],  , 現實, 有, 那種, 綁, 人, 到, 車上, 的, 綁, 架,...\n",
       "15    [Re, :,  , [, 亂馬, ],  , 良牙, X, 女亂, 馬, 的, 本子, 為...\n",
       "16    [[, 閒聊, ],  , 墊, 肩能, 幹, 嘛, ?,  , (, EX, ., 七龍珠...\n",
       "17    [Re, :,  , [, 同, 人, ],  , nayuta,  , 青, の, 結, ...\n",
       "18            [[, 閒聊, ],  , 戰爭, 沒有, 女人, 的, 臉,  ,  , 35]\n",
       "19    [[, 實況, ],  , 第, 937, 天, ，, 30, 歲, 辭職,  , 跑, 去...\n",
       "Name: seg, dtype: object"
      ]
     },
     "execution_count": 69,
     "metadata": {},
     "output_type": "execute_result"
    }
   ],
   "source": [
    "df[\"seg\"]"
   ]
  },
  {
   "cell_type": "code",
   "execution_count": 70,
   "metadata": {},
   "outputs": [],
   "source": [
    "u = 0\n",
    "words = []\n",
    "for i in df['seg']:\n",
    "    for word in df[\"seg\"][u]:\n",
    "        words.append(word)\n",
    "    u = u+1"
   ]
  },
  {
   "cell_type": "code",
   "execution_count": 71,
   "metadata": {},
   "outputs": [],
   "source": [
    "show_key = pd.DataFrame(Counter(words).keys())\n",
    "show_values = pd.DataFrame(Counter(words).values())"
   ]
  },
  {
   "cell_type": "code",
   "execution_count": 72,
   "metadata": {},
   "outputs": [
    {
     "data": {
      "text/plain": [
       "[      0\n",
       " 0    Fw\n",
       " 1     :\n",
       " 2      \n",
       " 3     [\n",
       " 4    討論\n",
       " ..   ..\n",
       " 138   跑\n",
       " 139   去\n",
       " 140   做\n",
       " 141  遊戲\n",
       " 142   好\n",
       " \n",
       " [143 rows x 1 columns],\n",
       "       0\n",
       " 0     1\n",
       " 1     6\n",
       " 2    36\n",
       " 3    20\n",
       " 4     1\n",
       " ..   ..\n",
       " 138   1\n",
       " 139   1\n",
       " 140   1\n",
       " 141   1\n",
       " 142   1\n",
       " \n",
       " [143 rows x 1 columns]]"
      ]
     },
     "execution_count": 72,
     "metadata": {},
     "output_type": "execute_result"
    }
   ],
   "source": [
    "df1 = [show_key, show_values]\n",
    "df1"
   ]
  },
  {
   "cell_type": "code",
   "execution_count": 74,
   "metadata": {},
   "outputs": [
    {
     "data": {
      "text/html": [
       "<div>\n",
       "<style scoped>\n",
       "    .dataframe tbody tr th:only-of-type {\n",
       "        vertical-align: middle;\n",
       "    }\n",
       "\n",
       "    .dataframe tbody tr th {\n",
       "        vertical-align: top;\n",
       "    }\n",
       "\n",
       "    .dataframe thead th {\n",
       "        text-align: right;\n",
       "    }\n",
       "</style>\n",
       "<table border=\"1\" class=\"dataframe\">\n",
       "  <thead>\n",
       "    <tr style=\"text-align: right;\">\n",
       "      <th></th>\n",
       "      <th>有提到的單字</th>\n",
       "      <th>次數</th>\n",
       "    </tr>\n",
       "  </thead>\n",
       "  <tbody>\n",
       "    <tr>\n",
       "      <th>0</th>\n",
       "      <td>Fw</td>\n",
       "      <td>1</td>\n",
       "    </tr>\n",
       "    <tr>\n",
       "      <th>1</th>\n",
       "      <td>:</td>\n",
       "      <td>6</td>\n",
       "    </tr>\n",
       "    <tr>\n",
       "      <th>2</th>\n",
       "      <td></td>\n",
       "      <td>36</td>\n",
       "    </tr>\n",
       "    <tr>\n",
       "      <th>3</th>\n",
       "      <td>[</td>\n",
       "      <td>20</td>\n",
       "    </tr>\n",
       "    <tr>\n",
       "      <th>4</th>\n",
       "      <td>討論</td>\n",
       "      <td>1</td>\n",
       "    </tr>\n",
       "    <tr>\n",
       "      <th>...</th>\n",
       "      <td>...</td>\n",
       "      <td>...</td>\n",
       "    </tr>\n",
       "    <tr>\n",
       "      <th>138</th>\n",
       "      <td>跑</td>\n",
       "      <td>1</td>\n",
       "    </tr>\n",
       "    <tr>\n",
       "      <th>139</th>\n",
       "      <td>去</td>\n",
       "      <td>1</td>\n",
       "    </tr>\n",
       "    <tr>\n",
       "      <th>140</th>\n",
       "      <td>做</td>\n",
       "      <td>1</td>\n",
       "    </tr>\n",
       "    <tr>\n",
       "      <th>141</th>\n",
       "      <td>遊戲</td>\n",
       "      <td>1</td>\n",
       "    </tr>\n",
       "    <tr>\n",
       "      <th>142</th>\n",
       "      <td>好</td>\n",
       "      <td>1</td>\n",
       "    </tr>\n",
       "  </tbody>\n",
       "</table>\n",
       "<p>143 rows × 2 columns</p>\n",
       "</div>"
      ],
      "text/plain": [
       "    有提到的單字  次數\n",
       "0       Fw   1\n",
       "1        :   6\n",
       "2           36\n",
       "3        [  20\n",
       "4       討論   1\n",
       "..     ...  ..\n",
       "138      跑   1\n",
       "139      去   1\n",
       "140      做   1\n",
       "141     遊戲   1\n",
       "142      好   1\n",
       "\n",
       "[143 rows x 2 columns]"
      ]
     },
     "execution_count": 74,
     "metadata": {},
     "output_type": "execute_result"
    }
   ],
   "source": [
    "result = pd.concat(df1, axis=1)\n",
    "result.columns = [\"有提到的單字\", \"次數\"]\n",
    "result"
   ]
  }
 ],
 "metadata": {
  "kernelspec": {
   "display_name": "Python 3.10.1 64-bit",
   "language": "python",
   "name": "python3"
  },
  "language_info": {
   "codemirror_mode": {
    "name": "ipython",
    "version": 3
   },
   "file_extension": ".py",
   "mimetype": "text/x-python",
   "name": "python",
   "nbconvert_exporter": "python",
   "pygments_lexer": "ipython3",
   "version": "3.10.1"
  },
  "orig_nbformat": 4,
  "vscode": {
   "interpreter": {
    "hash": "f528ce8acbf1180514c0105ce4262e845ce5f1c71d335879210aff712d8b8e4b"
   }
  }
 },
 "nbformat": 4,
 "nbformat_minor": 2
}
