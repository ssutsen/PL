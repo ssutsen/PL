{
 "cells": [
  {
   "cell_type": "code",
   "execution_count": 2,
   "metadata": {},
   "outputs": [],
   "source": [
    "import requests\n",
    "from bs4 import BeautifulSoup\n",
    "import pandas as pd\n",
    "\n",
    "url = \"https://www.ptt.cc/bbs/Japandrama/index.html\"\n",
    "for i in range(3): #往上爬3頁\n",
    "    r = requests.get(url)\n",
    "    soup = BeautifulSoup(r.text,\"html.parser\")\n",
    "    rents = soup.find_all(\"div\",\"r-ent\")\n",
    "    u = soup.select(\"div.btn-group.btn-group-paging a\")\n",
    "    url = \"https://www.ptt.cc\"+ u[1][\"href\"]  #上一頁的網址\n",
    "\n",
    "    titles = [r.find('div',\"title\").text.strip() for r in rents]\n",
    "    dates = [d.find('div',\"meta\").find(\"div\",\"date\").text.strip() for d in rents]\n",
    "\n",
    "    #存成dataframe\n",
    "    df = pd.DataFrame()  #暫存當頁資料\n",
    "\n",
    "    df=pd.DataFrame(\n",
    "    {\n",
    "        '標題': titles,\n",
    "        \"日期\": dates,\n",
    "    })\n",
    "    \n",
    "\n",
    "    #轉成csv檔\n",
    "    df.to_csv(f\"ptt.csv\")\n",
    "    \n",
    " "
   ]
  },
  {
   "cell_type": "code",
   "execution_count": 3,
   "metadata": {},
   "outputs": [
    {
     "data": {
      "text/html": [
       "<div>\n",
       "<style scoped>\n",
       "    .dataframe tbody tr th:only-of-type {\n",
       "        vertical-align: middle;\n",
       "    }\n",
       "\n",
       "    .dataframe tbody tr th {\n",
       "        vertical-align: top;\n",
       "    }\n",
       "\n",
       "    .dataframe thead th {\n",
       "        text-align: right;\n",
       "    }\n",
       "</style>\n",
       "<table border=\"1\" class=\"dataframe\">\n",
       "  <thead>\n",
       "    <tr style=\"text-align: right;\">\n",
       "      <th></th>\n",
       "      <th>Unnamed: 0</th>\n",
       "      <th>標題</th>\n",
       "      <th>日期</th>\n",
       "    </tr>\n",
       "  </thead>\n",
       "  <tbody>\n",
       "    <tr>\n",
       "      <th>0</th>\n",
       "      <td>0</td>\n",
       "      <td>[討論] 民放黃金檔連續劇平均收視 歷代倒數排名</td>\n",
       "      <td>10/28</td>\n",
       "    </tr>\n",
       "    <tr>\n",
       "      <th>1</th>\n",
       "      <td>1</td>\n",
       "      <td>[情報] 客家電視台 11/23起22點重播《半澤直樹》</td>\n",
       "      <td>10/28</td>\n",
       "    </tr>\n",
       "    <tr>\n",
       "      <th>2</th>\n",
       "      <td>2</td>\n",
       "      <td>[LIVE] 鋼盔男兒 EP05</td>\n",
       "      <td>10/28</td>\n",
       "    </tr>\n",
       "    <tr>\n",
       "      <th>3</th>\n",
       "      <td>3</td>\n",
       "      <td>[LIVE] 公平交易英雄 EP10</td>\n",
       "      <td>10/28</td>\n",
       "    </tr>\n",
       "    <tr>\n",
       "      <th>4</th>\n",
       "      <td>4</td>\n",
       "      <td>[閒聊] (雷) 展翅飛舞 第四週20 乘載青春的翅膀</td>\n",
       "      <td>10/28</td>\n",
       "    </tr>\n",
       "  </tbody>\n",
       "</table>\n",
       "</div>"
      ],
      "text/plain": [
       "   Unnamed: 0                            標題     日期\n",
       "0           0      [討論] 民放黃金檔連續劇平均收視 歷代倒數排名  10/28\n",
       "1           1  [情報] 客家電視台 11/23起22點重播《半澤直樹》  10/28\n",
       "2           2              [LIVE] 鋼盔男兒 EP05  10/28\n",
       "3           3            [LIVE] 公平交易英雄 EP10  10/28\n",
       "4           4   [閒聊] (雷) 展翅飛舞 第四週20 乘載青春的翅膀  10/28"
      ]
     },
     "execution_count": 3,
     "metadata": {},
     "output_type": "execute_result"
    }
   ],
   "source": [
    "#讀取ptt.csv資料\n",
    "pttcsv = pd.read_csv(\"ptt.csv\")\n",
    "pttcsv.head(5) "
   ]
  },
  {
   "cell_type": "code",
   "execution_count": 4,
   "metadata": {},
   "outputs": [
    {
     "data": {
      "text/plain": [
       "'[{\"Unnamed: 0\":0,\"標題\":\"[討論] 民放黃金檔連續劇平均收視 歷代倒數排名\",\"日期\":\"10\\\\/28\"},{\"Unnamed: 0\":1,\"標題\":\"[情報] 客家電視台 11\\\\/23起22點重播《半澤直樹》\",\"日期\":\"10\\\\/28\"},{\"Unnamed: 0\":2,\"標題\":\"[LIVE] 鋼盔男兒 EP05\",\"日期\":\"10\\\\/28\"},{\"Unnamed: 0\":3,\"標題\":\"[LIVE] 公平交易英雄 EP10\",\"日期\":\"10\\\\/28\"},{\"Unnamed: 0\":4,\"標題\":\"[閒聊] (雷) 展翅飛舞 第四週20 乘載青春的翅膀\",\"日期\":\"10\\\\/28\"},{\"Unnamed: 0\":5,\"標題\":\"[心得] Silent第四集談談湊斗\",\"日期\":\"10\\\\/28\"},{\"Unnamed: 0\":6,\"標題\":\"[心得] THE TRAVEL NURSE 旅行護理師 第二集\",\"日期\":\"10\\\\/28\"},{\"Unnamed: 0\":7,\"標題\":\"[心得] silent EP04\",\"日期\":\"10\\\\/29\"},{\"Unnamed: 0\":8,\"標題\":\"Re: [心得] Elpis-希望或是災難 ep.01 (雷)\",\"日期\":\"10\\\\/29\"},{\"Unnamed: 0\":9,\"標題\":\"[閒聊] silent第四集Tver專欄劇評翻譯\",\"日期\":\"10\\\\/29\"},{\"Unnamed: 0\":10,\"標題\":\"[訪談] 鎌倉殿的13人 坂東彌十郎(北條時政)訪談\",\"日期\":\"10\\\\/29\"},{\"Unnamed: 0\":11,\"標題\":\"[心得] silent EP04\",\"日期\":\"10\\\\/29\"},{\"Unnamed: 0\":12,\"標題\":\"[心得] Silent ep2\",\"日期\":\"10\\\\/29\"},{\"Unnamed: 0\":13,\"標題\":\"[LIVE] 遊戲之子 EP02\",\"日期\":\"10\\\\/29\"},{\"Unnamed: 0\":14,\"標題\":\"[LIVE] 祈願的病歷表 EP04\",\"日期\":\"10\\\\/29\"},{\"Unnamed: 0\":15,\"標題\":\"[心得] 詐欺獵人 ep2\",\"日期\":\"10\\\\/29\"},{\"Unnamed: 0\":16,\"標題\":\"[情報] 【離婚萬歲】+特別篇 friDay影音11\\\\/1全劇\",\"日期\":\"10\\\\/29\"},{\"Unnamed: 0\":17,\"標題\":\"[心得] 企鵝先鋒！ 第四集\",\"日期\":\"10\\\\/29\"},{\"Unnamed: 0\":18,\"標題\":\"Re: [心得] 靈媒偵探城塚翡翠 Ep2（原著雷）\",\"日期\":\"10\\\\/30\"},{\"Unnamed: 0\":19,\"標題\":\"[情報] 2023大河 どうする家康 先行視覺公開\",\"日期\":\"10\\\\/30\"}]'"
      ]
     },
     "execution_count": 4,
     "metadata": {},
     "output_type": "execute_result"
    }
   ],
   "source": [
    "#把csv轉成json\n",
    "import json\n",
    "\n",
    "pttjson = pttcsv.to_json(orient='records', force_ascii=False)\n",
    "pttjson"
   ]
  },
  {
   "cell_type": "code",
   "execution_count": null,
   "metadata": {},
   "outputs": [],
   "source": [
    "with open('ptt.json', 'w', newline='') as F:\n",
    "    json.dump(pttjson, F)\n",
    "    F.close()"
   ]
  }
 ],
 "metadata": {
  "kernelspec": {
   "display_name": "Python 3.10.1 64-bit",
   "language": "python",
   "name": "python3"
  },
  "language_info": {
   "codemirror_mode": {
    "name": "ipython",
    "version": 3
   },
   "file_extension": ".py",
   "mimetype": "text/x-python",
   "name": "python",
   "nbconvert_exporter": "python",
   "pygments_lexer": "ipython3",
   "version": "3.10.1"
  },
  "orig_nbformat": 4,
  "vscode": {
   "interpreter": {
    "hash": "f528ce8acbf1180514c0105ce4262e845ce5f1c71d335879210aff712d8b8e4b"
   }
  }
 },
 "nbformat": 4,
 "nbformat_minor": 2
}
