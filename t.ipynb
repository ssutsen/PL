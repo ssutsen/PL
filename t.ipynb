{
 "cells": [
  {
   "cell_type": "code",
   "execution_count": 3,
   "metadata": {},
   "outputs": [
    {
     "ename": "TypeError",
     "evalue": "string indices must be integers",
     "output_type": "error",
     "traceback": [
      "\u001b[1;31m---------------------------------------------------------------------------\u001b[0m",
      "\u001b[1;31mTypeError\u001b[0m                                 Traceback (most recent call last)",
      "Cell \u001b[1;32mIn [3], line 11\u001b[0m\n\u001b[0;32m      8\u001b[0m      data \u001b[38;5;241m=\u001b[39m json\u001b[38;5;241m.\u001b[39mloads(jsondata\u001b[38;5;241m.\u001b[39mread()\u001b[38;5;241m.\u001b[39mdecode(\u001b[38;5;124m'\u001b[39m\u001b[38;5;124mutf-8-sig\u001b[39m\u001b[38;5;124m'\u001b[39m)) \n\u001b[0;32m     10\u001b[0m \u001b[38;5;28;01mfor\u001b[39;00m i \u001b[38;5;129;01min\u001b[39;00m data:\n\u001b[1;32m---> 11\u001b[0m       \u001b[38;5;28mprint\u001b[39m(i[\u001b[38;5;124m'\u001b[39m\u001b[38;5;124msna\u001b[39m\u001b[38;5;124m'\u001b[39m],\u001b[38;5;124m'\u001b[39m\u001b[38;5;130;01m\\t\u001b[39;00m\u001b[38;5;124m'\u001b[39m,i[\u001b[38;5;124m'\u001b[39m\u001b[38;5;124msarea\u001b[39m\u001b[38;5;124m'\u001b[39m])\n",
      "\u001b[1;31mTypeError\u001b[0m: string indices must be integers"
     ]
    }
   ],
   "source": [
    "import  json, ssl, urllib.request\n",
    "\n",
    "url = 'https://tcgbusfs.blob.core.windows.net/blobyoubike/YouBikeTP.json'\n",
    "context = ssl._create_unverified_context()\n",
    "\n",
    "with urllib.request.urlopen(url, context=context) as jsondata:\n",
    "    #將JSON進行UTF-8的BOM解碼，並把解碼後的資料載入JSON陣列中\n",
    "     data = json.loads(jsondata.read().decode('utf-8-sig')) \n",
    "\n",
    "for i in data:\n",
    "      print(i['sna'],'\\t',i['sarea'])"
   ]
  },
  {
   "cell_type": "markdown",
   "metadata": {},
   "source": [
    "import requests,json\n",
    "url = requests.get(\"https://tcgbusfs.blob.core.windows.net/blobyoubike/YouBikeTP.json\")\n",
    "text = url.text\n",
    "print(type(text))"
   ]
  }
 ],
 "metadata": {
  "kernelspec": {
   "display_name": "Python 3.10.1 64-bit",
   "language": "python",
   "name": "python3"
  },
  "language_info": {
   "codemirror_mode": {
    "name": "ipython",
    "version": 3
   },
   "file_extension": ".py",
   "mimetype": "text/x-python",
   "name": "python",
   "nbconvert_exporter": "python",
   "pygments_lexer": "ipython3",
   "version": "3.10.1"
  },
  "orig_nbformat": 4,
  "vscode": {
   "interpreter": {
    "hash": "f528ce8acbf1180514c0105ce4262e845ce5f1c71d335879210aff712d8b8e4b"
   }
  }
 },
 "nbformat": 4,
 "nbformat_minor": 2
}
