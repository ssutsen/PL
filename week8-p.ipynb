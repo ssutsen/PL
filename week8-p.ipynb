{
 "cells": [
  {
   "cell_type": "code",
   "execution_count": 9,
   "metadata": {},
   "outputs": [
    {
     "name": "stdout",
     "output_type": "stream",
     "text": [
      "Collecting matplotlib\n",
      "  Using cached matplotlib-3.6.2-cp310-cp310-win_amd64.whl (7.2 MB)\n",
      "Requirement already satisfied: python-dateutil>=2.7 in c:\\users\\babe9\\appdata\\roaming\\python\\python310\\site-packages (from matplotlib) (2.8.2)\n",
      "Requirement already satisfied: numpy>=1.19 in c:\\users\\babe9\\appdata\\local\\programs\\python\\python310\\lib\\site-packages (from matplotlib) (1.23.3)\n",
      "Collecting pillow>=6.2.0\n",
      "  Downloading Pillow-9.3.0-cp310-cp310-win_amd64.whl (2.5 MB)\n",
      "Collecting cycler>=0.10\n",
      "  Downloading cycler-0.11.0-py3-none-any.whl (6.4 kB)\n",
      "Collecting contourpy>=1.0.1\n",
      "  Downloading contourpy-1.0.6-cp310-cp310-win_amd64.whl (163 kB)\n",
      "Collecting kiwisolver>=1.0.1\n",
      "  Downloading kiwisolver-1.4.4-cp310-cp310-win_amd64.whl (55 kB)\n",
      "Requirement already satisfied: pyparsing>=2.2.1 in c:\\users\\babe9\\appdata\\roaming\\python\\python310\\site-packages (from matplotlib) (3.0.9)\n",
      "Requirement already satisfied: packaging>=20.0 in c:\\users\\babe9\\appdata\\roaming\\python\\python310\\site-packages (from matplotlib) (21.3)\n",
      "Collecting fonttools>=4.22.0\n",
      "  Downloading fonttools-4.38.0-py3-none-any.whl (965 kB)\n",
      "Requirement already satisfied: six>=1.5 in c:\\users\\babe9\\appdata\\roaming\\python\\python310\\site-packages (from python-dateutil>=2.7->matplotlib) (1.16.0)\n",
      "Installing collected packages: pillow, kiwisolver, fonttools, cycler, contourpy, matplotlib\n",
      "Successfully installed contourpy-1.0.6 cycler-0.11.0 fonttools-4.38.0 kiwisolver-1.4.4 matplotlib-3.6.2 pillow-9.3.0\n",
      "Note: you may need to restart the kernel to use updated packages.\n"
     ]
    },
    {
     "name": "stderr",
     "output_type": "stream",
     "text": [
      "WARNING: You are using pip version 21.2.4; however, version 22.3.1 is available.\n",
      "You should consider upgrading via the 'c:\\Users\\babe9\\AppData\\Local\\Programs\\Python\\Python310\\python.exe -m pip install --upgrade pip' command.\n"
     ]
    }
   ],
   "source": [
    "pip install matplotlib\n"
   ]
  },
  {
   "cell_type": "code",
   "execution_count": 46,
   "metadata": {},
   "outputs": [],
   "source": [
    "import matplotlib.pyplot as plt\n",
    "import pandas as pd"
   ]
  },
  {
   "cell_type": "code",
   "execution_count": 50,
   "metadata": {},
   "outputs": [
    {
     "name": "stdout",
     "output_type": "stream",
     "text": [
      "   city  number  rate\n",
      "0   新北市  17,115  4.25\n",
      "1   臺北市  10,206  3.89\n",
      "2   桃園市  10,487  4.65\n",
      "3   臺中市  12,277  4.36\n",
      "4   臺南市   7,570  4.03\n",
      "5   高雄市  11,219  4.05\n",
      "6   宜蘭縣   1,801  3.97\n",
      "7   新竹縣   2,442  4.31\n",
      "8   苗栗縣   2,166  3.98\n",
      "9   彰化縣   4,830  3.80\n",
      "10  南投縣   1,903  3.86\n",
      "11  雲林縣   2,317  3.41\n",
      "12  嘉義縣   1,742  3.47\n",
      "13  屏東縣   3,224  3.95\n",
      "14  臺東縣     925  4.28\n",
      "15  花蓮縣   1,428  4.39\n",
      "16  澎湖縣     413  3.91\n",
      "17  基隆市   1,436  3.90\n",
      "18  新竹市   1,887  4.20\n",
      "19  嘉義市   1,036  3.88\n",
      "20  金門縣     404  2.88\n",
      "21  連江縣      50  3.81\n"
     ]
    }
   ],
   "source": [
    "data1=pd.read_csv(\"marry.csv\")\n",
    "print(data1)"
   ]
  },
  {
   "cell_type": "code",
   "execution_count": 52,
   "metadata": {},
   "outputs": [
    {
     "name": "stdout",
     "output_type": "stream",
     "text": [
      "   city  number  rate\n",
      "0   新北市  17,115  4.25\n",
      "1   臺北市  10,206  3.89\n",
      "2   桃園市  10,487  4.65\n",
      "3   臺中市  12,277  4.36\n",
      "4   臺南市   7,570  4.03\n",
      "5   高雄市  11,219  4.05\n",
      "6   宜蘭縣   1,801  3.97\n",
      "7   新竹縣   2,442  4.31\n",
      "8   苗栗縣   2,166  3.98\n",
      "9   彰化縣   4,830  3.80\n",
      "10  南投縣   1,903  3.86\n",
      "11  雲林縣   2,317  3.41\n",
      "12  嘉義縣   1,742  3.47\n",
      "13  屏東縣   3,224  3.95\n",
      "14  臺東縣     925  4.28\n",
      "15  花蓮縣   1,428  4.39\n",
      "16  澎湖縣     413  3.91\n",
      "17  基隆市   1,436  3.90\n",
      "18  新竹市   1,887  4.20\n",
      "19  嘉義市   1,036  3.88\n",
      "20  金門縣     404  2.88\n",
      "21  連江縣      50  3.81\n"
     ]
    }
   ],
   "source": [
    "df = pd.DataFrame(data1)\n",
    "\n",
    "print(df)"
   ]
  },
  {
   "cell_type": "code",
   "execution_count": null,
   "metadata": {},
   "outputs": [],
   "source": [
    "plt.hist(data1.city, density=False, color = 'lightblue', cumulative = False, label = \"number\")\n",
    "plt.legend()\n",
    "plt.xlabel('city(\")')\n",
    "plt.show()"
   ]
  },
  {
   "cell_type": "code",
   "execution_count": 2,
   "metadata": {},
   "outputs": [],
   "source": [
    "import pandas as pd\n",
    "import matplotlib.pyplot as plt\n",
    "from matplotlib.font_manager import FontProperties"
   ]
  },
  {
   "cell_type": "code",
   "execution_count": 7,
   "metadata": {},
   "outputs": [
    {
     "ename": "NameError",
     "evalue": "name 'df' is not defined",
     "output_type": "error",
     "traceback": [
      "\u001b[1;31m---------------------------------------------------------------------------\u001b[0m",
      "\u001b[1;31mNameError\u001b[0m                                 Traceback (most recent call last)",
      "Cell \u001b[1;32mIn [7], line 5\u001b[0m\n\u001b[0;32m      2\u001b[0m \u001b[39mimport\u001b[39;00m \u001b[39mmatplotlib\u001b[39;00m\u001b[39m.\u001b[39;00m\u001b[39mpyplot\u001b[39;00m \u001b[39mas\u001b[39;00m \u001b[39mplt\u001b[39;00m\n\u001b[0;32m      3\u001b[0m \u001b[39mfrom\u001b[39;00m \u001b[39mmatplotlib\u001b[39;00m\u001b[39m.\u001b[39;00m\u001b[39mfont_manager\u001b[39;00m \u001b[39mimport\u001b[39;00m FontProperties\n\u001b[1;32m----> 5\u001b[0m plt\u001b[39m.\u001b[39mbar(df\u001b[39m.\u001b[39mcity\u001b[39m.\u001b[39munique(),\n\u001b[0;32m      6\u001b[0m         df\u001b[39m.\u001b[39mcity\u001b[39m.\u001b[39mvalue_counts(), \n\u001b[0;32m      7\u001b[0m         width\u001b[39m=\u001b[39m\u001b[39m0.5\u001b[39m, \n\u001b[0;32m      8\u001b[0m         bottom\u001b[39m=\u001b[39m\u001b[39mNone\u001b[39;00m, \n\u001b[0;32m      9\u001b[0m         align\u001b[39m=\u001b[39m\u001b[39m'\u001b[39m\u001b[39mcenter\u001b[39m\u001b[39m'\u001b[39m, \n\u001b[0;32m     10\u001b[0m         color\u001b[39m=\u001b[39m[\u001b[39m'\u001b[39m\u001b[39mlightsteelblue\u001b[39m\u001b[39m'\u001b[39m, \n\u001b[0;32m     11\u001b[0m                \u001b[39m'\u001b[39m\u001b[39mcornflowerblue\u001b[39m\u001b[39m'\u001b[39m, \n\u001b[0;32m     12\u001b[0m                \u001b[39m'\u001b[39m\u001b[39mroyalblue\u001b[39m\u001b[39m'\u001b[39m, \n\u001b[0;32m     13\u001b[0m                \u001b[39m'\u001b[39m\u001b[39mmidnightblue\u001b[39m\u001b[39m'\u001b[39m, \n\u001b[0;32m     14\u001b[0m                \u001b[39m'\u001b[39m\u001b[39mnavy\u001b[39m\u001b[39m'\u001b[39m, \n\u001b[0;32m     15\u001b[0m                \u001b[39m'\u001b[39m\u001b[39mdarkblue\u001b[39m\u001b[39m'\u001b[39m, \n\u001b[0;32m     16\u001b[0m                \u001b[39m'\u001b[39m\u001b[39mmediumblue\u001b[39m\u001b[39m'\u001b[39m])\n\u001b[0;32m     17\u001b[0m plt\u001b[39m.\u001b[39mxticks(rotation\u001b[39m=\u001b[39m\u001b[39m'\u001b[39m\u001b[39mvertical\u001b[39m\u001b[39m'\u001b[39m)\n\u001b[0;32m     19\u001b[0m font \u001b[39m=\u001b[39m FontProperties(fname\u001b[39m=\u001b[39m\u001b[39mr\u001b[39m\u001b[39m'\u001b[39m\u001b[39mKiwiMaru-Light.ttf\u001b[39m\u001b[39m'\u001b[39m)\n",
      "\u001b[1;31mNameError\u001b[0m: name 'df' is not defined"
     ]
    }
   ],
   "source": [
    "import pandas as pd\n",
    "import matplotlib.pyplot as plt\n",
    "from matplotlib.font_manager import FontProperties\n",
    "\n",
    "plt.bar(df.city.unique(),\n",
    "        df.city.value_counts(), \n",
    "        width=0.5, \n",
    "        bottom=None, \n",
    "        align='center', \n",
    "        color=['lightsteelblue', \n",
    "               'cornflowerblue', \n",
    "               'royalblue', \n",
    "               'midnightblue', \n",
    "               'navy', \n",
    "               'darkblue', \n",
    "               'mediumblue'])\n",
    "plt.xticks(rotation='vertical')\n",
    "\n",
    "font = FontProperties(fname=r'KiwiMaru-Light.ttf')\n",
    "\n",
    "plt.show()"
   ]
  }
 ],
 "metadata": {
  "kernelspec": {
   "display_name": "Python 3.10.1 64-bit",
   "language": "python",
   "name": "python3"
  },
  "language_info": {
   "codemirror_mode": {
    "name": "ipython",
    "version": 3
   },
   "file_extension": ".py",
   "mimetype": "text/x-python",
   "name": "python",
   "nbconvert_exporter": "python",
   "pygments_lexer": "ipython3",
   "version": "3.10.1"
  },
  "orig_nbformat": 4,
  "vscode": {
   "interpreter": {
    "hash": "f528ce8acbf1180514c0105ce4262e845ce5f1c71d335879210aff712d8b8e4b"
   }
  }
 },
 "nbformat": 4,
 "nbformat_minor": 2
}
