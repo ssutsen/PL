{
 "cells": [
  {
   "cell_type": "code",
   "execution_count": null,
   "metadata": {},
   "outputs": [],
   "source": [
    "import requests\n",
    "from bs4 import BeautifulSoup\n",
    "\n",
    "r = requests.get(\"https://www.ptt.cc/bbs/Japandrama/index.html\") #將網頁資料GET下來\n",
    "soup = BeautifulSoup(r.text,\"html.parser\") #將網頁資料以html.parser\n",
    "sel = soup.select(\"div.title a\") #取HTML標中的 <div class=\"title\"></div> 中的<a>標籤存入sel\n",
    "for s in sel:\n",
    "    print(s[\"href\"], s.text) "
   ]
  }
 ],
 "metadata": {
  "kernelspec": {
   "display_name": "Python 3.10.1 64-bit",
   "language": "python",
   "name": "python3"
  },
  "language_info": {
   "name": "python",
   "version": "3.10.1"
  },
  "orig_nbformat": 4,
  "vscode": {
   "interpreter": {
    "hash": "f528ce8acbf1180514c0105ce4262e845ce5f1c71d335879210aff712d8b8e4b"
   }
  }
 },
 "nbformat": 4,
 "nbformat_minor": 2
}
