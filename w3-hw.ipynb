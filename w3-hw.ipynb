{
 "cells": [
  {
   "cell_type": "code",
   "execution_count": 2,
   "metadata": {},
   "outputs": [
    {
     "name": "stdout",
     "output_type": "stream",
     "text": [
      "    Unnamed: 0   姓名 年級               主題\n",
      "0            1  柯品安  三   28. Contact Us\n",
      "1            2  林品君  三   28. Contact Us\n",
      "2            3  陳怡庭  四       1. Sign Up\n",
      "3            4  林湘婷  四       22. Search\n",
      "4            5  施雅蓉  四       22. Search\n",
      "5            6  謝姵安  四   28. Contact Us\n",
      "6            7  黃采婕  四      2. Checkout\n",
      "7            8  顧庭瑜  三      2. Checkout\n",
      "8            9  鍾舒卉  四       1. Sign Up\n",
      "9           10  陳伊柔  三      8. 404 Page\n",
      "10          11  陳品諭  三   28. Contact Us\n",
      "11          12  謝宜臻  三  6. User Profile\n",
      "12          13  廖季淳  三       1. Sign Up\n",
      "13          14  楊婕渝  三  6. User Profile\n",
      "14          15  蔡昀臻  三      2. Checkout\n",
      "15          16  蘇意翎  三  6. User Profile\n",
      "16          17  張少萁  二      8. 404 Page\n",
      "17          18  郭玟慧  二       22. Search\n",
      "18          19  李詩元  二       1. Sign Up\n",
      "19          20  高靚芯  二      8. 404 Page\n",
      "20          21  周昶言  二      2. Checkout\n",
      "21          22  徐曉光  二       1. Sign Up\n",
      "22          23  黃靖文  二  6. User Profile\n",
      "23          24  周真行  二       22. Search\n",
      "24          25  陳祈福  二   28. Contact Us\n",
      "25          26  周鈺璇  二      2. Checkout\n",
      "26          27  陳思嘉  二       1. Sign Up\n",
      "27          28  黃宇揚  二  6. User Profile\n",
      "28          29  莊子逸  二      2. Checkout\n",
      "29          30  陳淳鈺  二      8. 404 Page\n",
      "30          31  鄭芷昀  二  6. User Profile\n",
      "31          32  許晴閔  三  6. User Profile\n",
      "32          33  許慧儀  三      2. Checkout\n",
      "33          34  祝嘉妤  四       22. Search\n",
      "34          35  許育瑄  四      8. 404 Page\n",
      "35          36  黃子芯  三      2. Checkout\n",
      "36          37  周如茵  三  6. User Profile\n",
      "37          38  呂元妙  二   28. Contact Us\n",
      "38          39  呂建廷  三      2. Checkout\n",
      "39          40  林龍心  三       1. Sign Up\n",
      "40          41  林佳姸  四   28. Contact Us\n",
      "41          42  曾士瑋  四      2. Checkout\n",
      "42          43  陳思岑  二       1. Sign Up\n",
      "43          44  俞凱馨  四       22. Search\n"
     ]
    }
   ],
   "source": [
    "#讀取csv資料\n",
    "import pandas as pd\n",
    "#比較不同年級與作業題目\n",
    "data = pd.read_csv(\"hw.csv\")\n",
    "print(data)"
   ]
  },
  {
   "cell_type": "code",
   "execution_count": 3,
   "metadata": {},
   "outputs": [
    {
     "data": {
      "text/plain": [
       "44"
      ]
     },
     "execution_count": 3,
     "metadata": {},
     "output_type": "execute_result"
    }
   ],
   "source": [
    "#總數\n",
    "len(data)"
   ]
  },
  {
   "cell_type": "code",
   "execution_count": 5,
   "metadata": {},
   "outputs": [
    {
     "name": "stdout",
     "output_type": "stream",
     "text": [
      "0     三\n",
      "1     三\n",
      "2     四\n",
      "3     四\n",
      "4     四\n",
      "5     四\n",
      "6     四\n",
      "7     三\n",
      "8     四\n",
      "9     三\n",
      "10    三\n",
      "11    三\n",
      "12    三\n",
      "13    三\n",
      "14    三\n",
      "15    三\n",
      "16    二\n",
      "17    二\n",
      "18    二\n",
      "19    二\n",
      "20    二\n",
      "21    二\n",
      "22    二\n",
      "23    二\n",
      "24    二\n",
      "25    二\n",
      "26    二\n",
      "27    二\n",
      "28    二\n",
      "29    二\n",
      "30    二\n",
      "31    三\n",
      "32    三\n",
      "33    四\n",
      "34    四\n",
      "35    三\n",
      "36    三\n",
      "37    二\n",
      "38    三\n",
      "39    三\n",
      "40    四\n",
      "41    四\n",
      "42    二\n",
      "43    四\n",
      "Name: 年級, dtype: object\n"
     ]
    }
   ],
   "source": [
    "#印出一列資料\n",
    "print(data[\"年級\"])"
   ]
  },
  {
   "cell_type": "code",
   "execution_count": 11,
   "metadata": {},
   "outputs": [
    {
     "name": "stdout",
     "output_type": "stream",
     "text": [
      "    Unnamed: 0   姓名 年級               主題\n",
      "16          17  張少萁  二      8. 404 Page\n",
      "17          18  郭玟慧  二       22. Search\n",
      "18          19  李詩元  二       1. Sign Up\n",
      "19          20  高靚芯  二      8. 404 Page\n",
      "20          21  周昶言  二      2. Checkout\n",
      "21          22  徐曉光  二       1. Sign Up\n",
      "22          23  黃靖文  二  6. User Profile\n",
      "23          24  周真行  二       22. Search\n",
      "24          25  陳祈福  二   28. Contact Us\n",
      "25          26  周鈺璇  二      2. Checkout\n",
      "26          27  陳思嘉  二       1. Sign Up\n",
      "27          28  黃宇揚  二  6. User Profile\n",
      "28          29  莊子逸  二      2. Checkout\n",
      "29          30  陳淳鈺  二      8. 404 Page\n",
      "30          31  鄭芷昀  二  6. User Profile\n",
      "37          38  呂元妙  二   28. Contact Us\n",
      "42          43  陳思岑  二       1. Sign Up\n"
     ]
    }
   ],
   "source": [
    "#印出二年級的選課同學\n",
    "two = data[data['年級'].str.contains(\"二\")]\n",
    "print(two)"
   ]
  },
  {
   "cell_type": "code",
   "execution_count": 12,
   "metadata": {},
   "outputs": [
    {
     "name": "stdout",
     "output_type": "stream",
     "text": [
      "    Unnamed: 0   姓名 年級          主題\n",
      "18          19  李詩元  二  1. Sign Up\n",
      "21          22  徐曉光  二  1. Sign Up\n",
      "26          27  陳思嘉  二  1. Sign Up\n",
      "42          43  陳思岑  二  1. Sign Up\n"
     ]
    }
   ],
   "source": [
    "#交集-大二 且 主題是1. Sign Up\n",
    "intersection=data[(data[\"年級\"]==\"二\") & (data[\"主題\"]==\"1. Sign Up\")]\n",
    "print(intersection)"
   ]
  },
  {
   "cell_type": "code",
   "execution_count": 14,
   "metadata": {},
   "outputs": [
    {
     "data": {
      "text/html": [
       "<div>\n",
       "<style scoped>\n",
       "    .dataframe tbody tr th:only-of-type {\n",
       "        vertical-align: middle;\n",
       "    }\n",
       "\n",
       "    .dataframe tbody tr th {\n",
       "        vertical-align: top;\n",
       "    }\n",
       "\n",
       "    .dataframe thead th {\n",
       "        text-align: right;\n",
       "    }\n",
       "</style>\n",
       "<table border=\"1\" class=\"dataframe\">\n",
       "  <thead>\n",
       "    <tr style=\"text-align: right;\">\n",
       "      <th></th>\n",
       "      <th>Unnamed: 0</th>\n",
       "      <th>姓名</th>\n",
       "      <th>年級</th>\n",
       "      <th>主題</th>\n",
       "    </tr>\n",
       "  </thead>\n",
       "  <tbody>\n",
       "    <tr>\n",
       "      <th>24</th>\n",
       "      <td>25</td>\n",
       "      <td>陳祈福</td>\n",
       "      <td>二</td>\n",
       "      <td>28. Contact Us</td>\n",
       "    </tr>\n",
       "    <tr>\n",
       "      <th>25</th>\n",
       "      <td>26</td>\n",
       "      <td>周鈺璇</td>\n",
       "      <td>二</td>\n",
       "      <td>2. Checkout</td>\n",
       "    </tr>\n",
       "    <tr>\n",
       "      <th>26</th>\n",
       "      <td>27</td>\n",
       "      <td>陳思嘉</td>\n",
       "      <td>二</td>\n",
       "      <td>1. Sign Up</td>\n",
       "    </tr>\n",
       "    <tr>\n",
       "      <th>27</th>\n",
       "      <td>28</td>\n",
       "      <td>黃宇揚</td>\n",
       "      <td>二</td>\n",
       "      <td>6. User Profile</td>\n",
       "    </tr>\n",
       "    <tr>\n",
       "      <th>28</th>\n",
       "      <td>29</td>\n",
       "      <td>莊子逸</td>\n",
       "      <td>二</td>\n",
       "      <td>2. Checkout</td>\n",
       "    </tr>\n",
       "    <tr>\n",
       "      <th>29</th>\n",
       "      <td>30</td>\n",
       "      <td>陳淳鈺</td>\n",
       "      <td>二</td>\n",
       "      <td>8. 404 Page</td>\n",
       "    </tr>\n",
       "    <tr>\n",
       "      <th>30</th>\n",
       "      <td>31</td>\n",
       "      <td>鄭芷昀</td>\n",
       "      <td>二</td>\n",
       "      <td>6. User Profile</td>\n",
       "    </tr>\n",
       "    <tr>\n",
       "      <th>37</th>\n",
       "      <td>38</td>\n",
       "      <td>呂元妙</td>\n",
       "      <td>二</td>\n",
       "      <td>28. Contact Us</td>\n",
       "    </tr>\n",
       "    <tr>\n",
       "      <th>39</th>\n",
       "      <td>40</td>\n",
       "      <td>林龍心</td>\n",
       "      <td>三</td>\n",
       "      <td>1. Sign Up</td>\n",
       "    </tr>\n",
       "    <tr>\n",
       "      <th>42</th>\n",
       "      <td>43</td>\n",
       "      <td>陳思岑</td>\n",
       "      <td>二</td>\n",
       "      <td>1. Sign Up</td>\n",
       "    </tr>\n",
       "  </tbody>\n",
       "</table>\n",
       "</div>"
      ],
      "text/plain": [
       "    Unnamed: 0   姓名 年級               主題\n",
       "24          25  陳祈福  二   28. Contact Us\n",
       "25          26  周鈺璇  二      2. Checkout\n",
       "26          27  陳思嘉  二       1. Sign Up\n",
       "27          28  黃宇揚  二  6. User Profile\n",
       "28          29  莊子逸  二      2. Checkout\n",
       "29          30  陳淳鈺  二      8. 404 Page\n",
       "30          31  鄭芷昀  二  6. User Profile\n",
       "37          38  呂元妙  二   28. Contact Us\n",
       "39          40  林龍心  三       1. Sign Up\n",
       "42          43  陳思岑  二       1. Sign Up"
      ]
     },
     "execution_count": 14,
     "metadata": {},
     "output_type": "execute_result"
    }
   ],
   "source": [
    "#聯集-大二 或 主題是1. Sign Up\n",
    "union=data[(data[\"年級\"]==\"二\") | (data[\"主題\"]==\"1. Sign Up\")]\n",
    "union.tail(10)"
   ]
  },
  {
   "cell_type": "code",
   "execution_count": null,
   "metadata": {},
   "outputs": [],
   "source": [
    "#差集- 大二 但 主題不是1. Sign Up\n",
    "difference=data[(data[\"年級\"]==\"二\") | (data[\"主題\"]!=\"1. Sign Up\")]\n",
    "difference.head(10)"
   ]
  }
 ],
 "metadata": {
  "kernelspec": {
   "display_name": "Python 3.10.1 64-bit",
   "language": "python",
   "name": "python3"
  },
  "language_info": {
   "codemirror_mode": {
    "name": "ipython",
    "version": 3
   },
   "file_extension": ".py",
   "mimetype": "text/x-python",
   "name": "python",
   "nbconvert_exporter": "python",
   "pygments_lexer": "ipython3",
   "version": "3.10.1"
  },
  "orig_nbformat": 4,
  "vscode": {
   "interpreter": {
    "hash": "f528ce8acbf1180514c0105ce4262e845ce5f1c71d335879210aff712d8b8e4b"
   }
  }
 },
 "nbformat": 4,
 "nbformat_minor": 2
}
