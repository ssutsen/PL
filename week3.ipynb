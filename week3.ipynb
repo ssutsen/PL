{
 "cells": [
  {
   "cell_type": "code",
   "execution_count": 5,
   "metadata": {},
   "outputs": [
    {
     "name": "stdout",
     "output_type": "stream",
     "text": [
      "                        離婚對數  離婚對數.1  粗離婚率\n",
      "0    109年<br>(1月至10月)/ 區域別總計  43,133  1.83\n",
      "1      109年<br>(1月至10月)/ 新北市   7,599  1.89\n",
      "2      109年<br>(1月至10月)/ 臺北市   4,029  1.53\n",
      "3      109年<br>(1月至10月)/ 桃園市   4,856  2.15\n",
      "4      109年<br>(1月至10月)/ 臺中市   5,368  1.91\n",
      "..                       ...     ...   ...\n",
      "248            109年 10月/ 基隆市      62  0.17\n",
      "249            109年 10月/ 新竹市     101  0.22\n",
      "250            109年 10月/ 嘉義市      49  0.18\n",
      "251            109年 10月/ 金門縣      11  0.08\n",
      "252            109年 10月/ 連江縣       1  0.08\n",
      "\n",
      "[253 rows x 3 columns]\n"
     ]
    }
   ],
   "source": [
    "import pandas as pd\n",
    "\n",
    "#read csv file\n",
    "data1=pd.read_csv(\"t1.csv\")\n",
    "print(data1)"
   ]
  },
  {
   "cell_type": "code",
   "execution_count": 6,
   "metadata": {},
   "outputs": [
    {
     "ename": "NameError",
     "evalue": "name 'data1' is not defined",
     "output_type": "error",
     "traceback": [
      "\u001b[1;31m---------------------------------------------------------------------------\u001b[0m",
      "\u001b[1;31mNameError\u001b[0m                                 Traceback (most recent call last)",
      "\u001b[1;32mc:\\Users\\babe9\\OneDrive\\文件\\GitHub\\PL\\week3.ipynb Cell 2\u001b[0m in \u001b[0;36m<cell line: 2>\u001b[1;34m()\u001b[0m\n\u001b[0;32m      <a href='vscode-notebook-cell:/c%3A/Users/babe9/OneDrive/%E6%96%87%E4%BB%B6/GitHub/PL/week3.ipynb#W4sZmlsZQ%3D%3D?line=0'>1</a>\u001b[0m \u001b[39m#顯示前五筆資料\u001b[39;00m\n\u001b[1;32m----> <a href='vscode-notebook-cell:/c%3A/Users/babe9/OneDrive/%E6%96%87%E4%BB%B6/GitHub/PL/week3.ipynb#W4sZmlsZQ%3D%3D?line=1'>2</a>\u001b[0m data1\u001b[39m.\u001b[39mhead()\n",
      "\u001b[1;31mNameError\u001b[0m: name 'data1' is not defined"
     ]
    }
   ],
   "source": [
    "#顯示前五筆資料\n",
    "data1.head()"
   ]
  }
 ],
 "metadata": {
  "kernelspec": {
   "display_name": "Python 3.9.12 ('base')",
   "language": "python",
   "name": "python3"
  },
  "language_info": {
   "codemirror_mode": {
    "name": "ipython",
    "version": 3
   },
   "file_extension": ".py",
   "mimetype": "text/x-python",
   "name": "python",
   "nbconvert_exporter": "python",
   "pygments_lexer": "ipython3",
   "version": "3.9.12"
  },
  "orig_nbformat": 4,
  "vscode": {
   "interpreter": {
    "hash": "ad2bdc8ecc057115af97d19610ffacc2b4e99fae6737bb82f5d7fb13d2f2c186"
   }
  }
 },
 "nbformat": 4,
 "nbformat_minor": 2
}
