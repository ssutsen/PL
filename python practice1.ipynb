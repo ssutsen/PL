{
 "cells": [
  {
   "cell_type": "code",
   "execution_count": 6,
   "id": "20b66805",
   "metadata": {},
   "outputs": [
    {
     "name": "stdout",
     "output_type": "stream",
     "text": [
      "被告須付 17981\n",
      "原告須付 7706\n"
     ]
    }
   ],
   "source": [
    "money=25688\n",
    "a=money*0.7\n",
    "b=money*0.3\n",
    "print (\"被告須付\",int(a))\n",
    "print (\"原告須付\",int(b))"
   ]
  },
  {
   "cell_type": "code",
   "execution_count": null,
   "id": "09d59b9a",
   "metadata": {},
   "outputs": [],
   "source": []
  }
 ],
 "metadata": {
  "kernelspec": {
   "display_name": "Python 3 (ipykernel)",
   "language": "python",
   "name": "python3"
  },
  "language_info": {
   "codemirror_mode": {
    "name": "ipython",
    "version": 3
   },
   "file_extension": ".py",
   "mimetype": "text/x-python",
   "name": "python",
   "nbconvert_exporter": "python",
   "pygments_lexer": "ipython3",
   "version": "3.9.12"
  }
 },
 "nbformat": 4,
 "nbformat_minor": 5
}
